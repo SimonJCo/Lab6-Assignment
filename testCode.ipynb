{
 "cells": [
  {
   "cell_type": "markdown",
   "metadata": {},
   "source": [
    "Does this show up??"
   ]
  },
  {
   "cell_type": "code",
<<<<<<< HEAD
   "execution_count": 1,
=======
<<<<<<< HEAD
   "execution_count": 1,
=======
   "execution_count": 3,
>>>>>>> 4fcde1a5ea24670e2b368b311afae712b52fef29
>>>>>>> 5eed3857a1466b425f0577419c6ee676002d2306
   "metadata": {},
   "outputs": [
    {
     "name": "stdin",
     "output_type": "stream",
     "text": [
<<<<<<< HEAD
      "What is your name? Jake\n",
      "What is your age? 19\n"
=======
<<<<<<< HEAD
      "What is your name? Daniel\n",
=======
      "What is your name? Simon\n",
>>>>>>> 4fcde1a5ea24670e2b368b311afae712b52fef29
      "What is your age? 18\n"
>>>>>>> 5eed3857a1466b425f0577419c6ee676002d2306
     ]
    },
    {
     "name": "stdout",
     "output_type": "stream",
     "text": [
<<<<<<< HEAD
      "Hello Jake, aged 19.\n"
=======
<<<<<<< HEAD
      "Hello Daniel, aged 18.\n"
=======
      "Hello Simon, aged 18.\n"
>>>>>>> 4fcde1a5ea24670e2b368b311afae712b52fef29
>>>>>>> 5eed3857a1466b425f0577419c6ee676002d2306
     ]
    }
   ],
   "source": [
    "name = input(\"What is your name?\")\n",
    "age = input(\"What is your age?\")\n",
    "\n",
    "print(\"Hello \" + name + \", aged \" + age + \".\")"
   ]
  },
  {
   "cell_type": "code",
   "execution_count": null,
   "metadata": {},
   "outputs": [],
   "source": []
  }
 ],
 "metadata": {
  "kernelspec": {
   "display_name": "Python 3",
   "language": "python",
   "name": "python3"
  },
  "language_info": {
   "codemirror_mode": {
    "name": "ipython",
    "version": 3
   },
   "file_extension": ".py",
   "mimetype": "text/x-python",
   "name": "python",
   "nbconvert_exporter": "python",
   "pygments_lexer": "ipython3",
   "version": "3.8.3"
  }
 },
 "nbformat": 4,
 "nbformat_minor": 4
}
